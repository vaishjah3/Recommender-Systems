{
  "nbformat": 4,
  "nbformat_minor": 0,
  "metadata": {
    "colab": {
      "provenance": [],
      "gpuType": "T4"
    },
    "kernelspec": {
      "name": "python3",
      "display_name": "Python 3"
    },
    "language_info": {
      "name": "python"
    },
    "accelerator": "GPU"
  },
  "cells": [
    {
      "cell_type": "code",
      "source": [
        "from google.colab import drive\n",
        "drive.mount('/content/drive')\n",
        "\n",
        "import os\n",
        "os.environ['KAGGLE_CONFIG_DIR'] = '/content/drive/MyDrive/kaggle'"
      ],
      "metadata": {
        "colab": {
          "base_uri": "https://localhost:8080/"
        },
        "id": "GzsrhcS256sD",
        "outputId": "71f34d63-077d-4063-ce3e-b216e268326d"
      },
      "execution_count": null,
      "outputs": [
        {
          "output_type": "stream",
          "name": "stdout",
          "text": [
            "Mounted at /content/drive\n"
          ]
        }
      ]
    },
    {
      "cell_type": "code",
      "source": [
        "pip install kaggle"
      ],
      "metadata": {
        "id": "gH7_Miby6Ays",
        "colab": {
          "base_uri": "https://localhost:8080/"
        },
        "outputId": "727c54b8-2495-4e0c-f02d-281c35b9d307"
      },
      "execution_count": null,
      "outputs": [
        {
          "output_type": "stream",
          "name": "stdout",
          "text": [
            "Requirement already satisfied: kaggle in /usr/local/lib/python3.10/dist-packages (1.5.16)\n",
            "Requirement already satisfied: six>=1.10 in /usr/local/lib/python3.10/dist-packages (from kaggle) (1.16.0)\n",
            "Requirement already satisfied: certifi in /usr/local/lib/python3.10/dist-packages (from kaggle) (2023.11.17)\n",
            "Requirement already satisfied: python-dateutil in /usr/local/lib/python3.10/dist-packages (from kaggle) (2.8.2)\n",
            "Requirement already satisfied: requests in /usr/local/lib/python3.10/dist-packages (from kaggle) (2.31.0)\n",
            "Requirement already satisfied: tqdm in /usr/local/lib/python3.10/dist-packages (from kaggle) (4.66.1)\n",
            "Requirement already satisfied: python-slugify in /usr/local/lib/python3.10/dist-packages (from kaggle) (8.0.1)\n",
            "Requirement already satisfied: urllib3 in /usr/local/lib/python3.10/dist-packages (from kaggle) (2.0.7)\n",
            "Requirement already satisfied: bleach in /usr/local/lib/python3.10/dist-packages (from kaggle) (6.1.0)\n",
            "Requirement already satisfied: webencodings in /usr/local/lib/python3.10/dist-packages (from bleach->kaggle) (0.5.1)\n",
            "Requirement already satisfied: text-unidecode>=1.3 in /usr/local/lib/python3.10/dist-packages (from python-slugify->kaggle) (1.3)\n",
            "Requirement already satisfied: charset-normalizer<4,>=2 in /usr/local/lib/python3.10/dist-packages (from requests->kaggle) (3.3.2)\n",
            "Requirement already satisfied: idna<4,>=2.5 in /usr/local/lib/python3.10/dist-packages (from requests->kaggle) (3.6)\n"
          ]
        }
      ]
    },
    {
      "cell_type": "code",
      "source": [
        "!kaggle datasets download -d hyeonwooan/imdb-data-preprocessed-using-ml20m"
      ],
      "metadata": {
        "colab": {
          "base_uri": "https://localhost:8080/"
        },
        "id": "34XJez2N6KSX",
        "outputId": "52fbbfd3-baca-4272-c540-1f113c587648"
      },
      "execution_count": null,
      "outputs": [
        {
          "output_type": "stream",
          "name": "stdout",
          "text": [
            "Downloading imdb-data-preprocessed-using-ml20m.zip to /content\n",
            " 90% 66.0M/73.5M [00:00<00:00, 164MB/s]\n",
            "100% 73.5M/73.5M [00:00<00:00, 147MB/s]\n"
          ]
        }
      ]
    },
    {
      "cell_type": "code",
      "source": [
        "!unzip /content/imdb-data-preprocessed-using-ml20m.zip"
      ],
      "metadata": {
        "colab": {
          "base_uri": "https://localhost:8080/"
        },
        "id": "RKI9OJwj6VaT",
        "outputId": "dd009b9d-5b4f-4458-d754-9fd83c9edd4e"
      },
      "execution_count": null,
      "outputs": [
        {
          "output_type": "stream",
          "name": "stdout",
          "text": [
            "Archive:  /content/imdb-data-preprocessed-using-ml20m.zip\n",
            "  inflating: actors_vectors.p        \n",
            "  inflating: actors_vectors_10.p     \n",
            "  inflating: actors_vectors_100.p    \n",
            "  inflating: actors_vectors_20.p     \n",
            "  inflating: actors_vectors_50.p     \n",
            "  inflating: directors_vectors.p     \n",
            "  inflating: directors_vectors_10.p  \n",
            "  inflating: directors_vectors_100.p  \n",
            "  inflating: directors_vectors_20.p  \n",
            "  inflating: directors_vectors_50.p  \n",
            "  inflating: imdb_data.csv           \n",
            "  inflating: imdb_rating_with_ml20.csv  \n",
            "  inflating: vocab_actors.p          \n",
            "  inflating: vocab_directors.p       \n"
          ]
        }
      ]
    },
    {
      "cell_type": "code",
      "source": [
        "import pandas as pd\n",
        "metadata=pd.read_csv('imdb_data.csv')\n",
        "metadata=metadata[1:100]\n",
        "metadata.columns\n",
        "metadata.head(1)"
      ],
      "metadata": {
        "colab": {
          "base_uri": "https://localhost:8080/",
          "height": 153
        },
        "id": "QZ8I6zkn6f1R",
        "outputId": "eb7846e1-5653-4a43-b4cd-c98502f86d67"
      },
      "execution_count": null,
      "outputs": [
        {
          "output_type": "execute_result",
          "data": {
            "text/plain": [
              "          id           name    year grade  runtime    directors  \\\n",
              "1  tt8367814  The Gentlemen  (2019)    18  113 min  guy ritchie   \n",
              "\n",
              "                                              actors                genre  \\\n",
              "1  matthew mcconaughey,charlie hunnam,michelle do...  action,comedy,crime   \n",
              "\n",
              "  rating   votes                                         story  \\\n",
              "1    7.9  125948  expat,marijuana,empire,london,attempt,domain   \n",
              "\n",
              "                    actors_order directors_order  popularity  \n",
              "1  [96665, 24821, 100619, 66295]         [16615]    0.994154  "
            ],
            "text/html": [
              "\n",
              "  <div id=\"df-9a77719b-a679-4279-ba7a-081e2eb84c38\" class=\"colab-df-container\">\n",
              "    <div>\n",
              "<style scoped>\n",
              "    .dataframe tbody tr th:only-of-type {\n",
              "        vertical-align: middle;\n",
              "    }\n",
              "\n",
              "    .dataframe tbody tr th {\n",
              "        vertical-align: top;\n",
              "    }\n",
              "\n",
              "    .dataframe thead th {\n",
              "        text-align: right;\n",
              "    }\n",
              "</style>\n",
              "<table border=\"1\" class=\"dataframe\">\n",
              "  <thead>\n",
              "    <tr style=\"text-align: right;\">\n",
              "      <th></th>\n",
              "      <th>id</th>\n",
              "      <th>name</th>\n",
              "      <th>year</th>\n",
              "      <th>grade</th>\n",
              "      <th>runtime</th>\n",
              "      <th>directors</th>\n",
              "      <th>actors</th>\n",
              "      <th>genre</th>\n",
              "      <th>rating</th>\n",
              "      <th>votes</th>\n",
              "      <th>story</th>\n",
              "      <th>actors_order</th>\n",
              "      <th>directors_order</th>\n",
              "      <th>popularity</th>\n",
              "    </tr>\n",
              "  </thead>\n",
              "  <tbody>\n",
              "    <tr>\n",
              "      <th>1</th>\n",
              "      <td>tt8367814</td>\n",
              "      <td>The Gentlemen</td>\n",
              "      <td>(2019)</td>\n",
              "      <td>18</td>\n",
              "      <td>113 min</td>\n",
              "      <td>guy ritchie</td>\n",
              "      <td>matthew mcconaughey,charlie hunnam,michelle do...</td>\n",
              "      <td>action,comedy,crime</td>\n",
              "      <td>7.9</td>\n",
              "      <td>125948</td>\n",
              "      <td>expat,marijuana,empire,london,attempt,domain</td>\n",
              "      <td>[96665, 24821, 100619, 66295]</td>\n",
              "      <td>[16615]</td>\n",
              "      <td>0.994154</td>\n",
              "    </tr>\n",
              "  </tbody>\n",
              "</table>\n",
              "</div>\n",
              "    <div class=\"colab-df-buttons\">\n",
              "\n",
              "  <div class=\"colab-df-container\">\n",
              "    <button class=\"colab-df-convert\" onclick=\"convertToInteractive('df-9a77719b-a679-4279-ba7a-081e2eb84c38')\"\n",
              "            title=\"Convert this dataframe to an interactive table.\"\n",
              "            style=\"display:none;\">\n",
              "\n",
              "  <svg xmlns=\"http://www.w3.org/2000/svg\" height=\"24px\" viewBox=\"0 -960 960 960\">\n",
              "    <path d=\"M120-120v-720h720v720H120Zm60-500h600v-160H180v160Zm220 220h160v-160H400v160Zm0 220h160v-160H400v160ZM180-400h160v-160H180v160Zm440 0h160v-160H620v160ZM180-180h160v-160H180v160Zm440 0h160v-160H620v160Z\"/>\n",
              "  </svg>\n",
              "    </button>\n",
              "\n",
              "  <style>\n",
              "    .colab-df-container {\n",
              "      display:flex;\n",
              "      gap: 12px;\n",
              "    }\n",
              "\n",
              "    .colab-df-convert {\n",
              "      background-color: #E8F0FE;\n",
              "      border: none;\n",
              "      border-radius: 50%;\n",
              "      cursor: pointer;\n",
              "      display: none;\n",
              "      fill: #1967D2;\n",
              "      height: 32px;\n",
              "      padding: 0 0 0 0;\n",
              "      width: 32px;\n",
              "    }\n",
              "\n",
              "    .colab-df-convert:hover {\n",
              "      background-color: #E2EBFA;\n",
              "      box-shadow: 0px 1px 2px rgba(60, 64, 67, 0.3), 0px 1px 3px 1px rgba(60, 64, 67, 0.15);\n",
              "      fill: #174EA6;\n",
              "    }\n",
              "\n",
              "    .colab-df-buttons div {\n",
              "      margin-bottom: 4px;\n",
              "    }\n",
              "\n",
              "    [theme=dark] .colab-df-convert {\n",
              "      background-color: #3B4455;\n",
              "      fill: #D2E3FC;\n",
              "    }\n",
              "\n",
              "    [theme=dark] .colab-df-convert:hover {\n",
              "      background-color: #434B5C;\n",
              "      box-shadow: 0px 1px 3px 1px rgba(0, 0, 0, 0.15);\n",
              "      filter: drop-shadow(0px 1px 2px rgba(0, 0, 0, 0.3));\n",
              "      fill: #FFFFFF;\n",
              "    }\n",
              "  </style>\n",
              "\n",
              "    <script>\n",
              "      const buttonEl =\n",
              "        document.querySelector('#df-9a77719b-a679-4279-ba7a-081e2eb84c38 button.colab-df-convert');\n",
              "      buttonEl.style.display =\n",
              "        google.colab.kernel.accessAllowed ? 'block' : 'none';\n",
              "\n",
              "      async function convertToInteractive(key) {\n",
              "        const element = document.querySelector('#df-9a77719b-a679-4279-ba7a-081e2eb84c38');\n",
              "        const dataTable =\n",
              "          await google.colab.kernel.invokeFunction('convertToInteractive',\n",
              "                                                    [key], {});\n",
              "        if (!dataTable) return;\n",
              "\n",
              "        const docLinkHtml = 'Like what you see? Visit the ' +\n",
              "          '<a target=\"_blank\" href=https://colab.research.google.com/notebooks/data_table.ipynb>data table notebook</a>'\n",
              "          + ' to learn more about interactive tables.';\n",
              "        element.innerHTML = '';\n",
              "        dataTable['output_type'] = 'display_data';\n",
              "        await google.colab.output.renderOutput(dataTable, element);\n",
              "        const docLink = document.createElement('div');\n",
              "        docLink.innerHTML = docLinkHtml;\n",
              "        element.appendChild(docLink);\n",
              "      }\n",
              "    </script>\n",
              "  </div>\n",
              "\n",
              "    </div>\n",
              "  </div>\n"
            ]
          },
          "metadata": {},
          "execution_count": 45
        }
      ]
    },
    {
      "cell_type": "code",
      "source": [
        "features = ['name', 'genre', 'actors', 'directors']"
      ],
      "metadata": {
        "id": "iuKcWjeu8HHe"
      },
      "execution_count": null,
      "outputs": []
    },
    {
      "cell_type": "code",
      "source": [
        "content = metadata[features]"
      ],
      "metadata": {
        "id": "FaBTlqz_8XfY"
      },
      "execution_count": null,
      "outputs": []
    },
    {
      "cell_type": "code",
      "source": [
        "content=content.dropna()"
      ],
      "metadata": {
        "id": "IPrB4e8K9zc3"
      },
      "execution_count": null,
      "outputs": []
    },
    {
      "cell_type": "code",
      "source": [
        "content['name'].unique"
      ],
      "metadata": {
        "colab": {
          "base_uri": "https://localhost:8080/"
        },
        "id": "Wd6pbHtP942k",
        "outputId": "7ac1adb1-a0f6-4fe1-91ef-ddbc009eb7c9"
      },
      "execution_count": null,
      "outputs": [
        {
          "output_type": "execute_result",
          "data": {
            "text/plain": [
              "<bound method Series.unique of 1                                     The Gentlemen\n",
              "2     Star Wars: Episode IX - The Rise of Skywalker\n",
              "3                                 Avengers: Endgame\n",
              "4                                 Bad Boys for Life\n",
              "5                                            Code 8\n",
              "                          ...                      \n",
              "95                                    The Nice Guys\n",
              "96                                         Bad Boys\n",
              "97                                  Triple Frontier\n",
              "98                                    Plagi Breslau\n",
              "99                         The Fast and the Furious\n",
              "Name: name, Length: 99, dtype: object>"
            ]
          },
          "metadata": {},
          "execution_count": 49
        }
      ]
    },
    {
      "cell_type": "code",
      "source": [
        "content['name']=content['name'].str.lower()\n",
        "content['genre']=content['genre'].str.lower()\n",
        "content['actors']=content['actors'].str.lower()\n",
        "content['directors']=content['directors'].str.lower()"
      ],
      "metadata": {
        "id": "j9RoWgiHCFPU"
      },
      "execution_count": null,
      "outputs": []
    },
    {
      "cell_type": "code",
      "source": [
        "content['combined']=content['name']+' '+content['genre']+' '+content['actors']+' '+content['directors']"
      ],
      "metadata": {
        "id": "EOfw8_vAMfIE"
      },
      "execution_count": null,
      "outputs": []
    },
    {
      "cell_type": "code",
      "source": [
        "content.iloc[0]"
      ],
      "metadata": {
        "colab": {
          "base_uri": "https://localhost:8080/"
        },
        "id": "NWmd6q57OjzP",
        "outputId": "d7e93894-3f0b-49fd-a6e5-00371f2a14db"
      },
      "execution_count": null,
      "outputs": [
        {
          "output_type": "execute_result",
          "data": {
            "text/plain": [
              "name                                             the gentlemen\n",
              "genre                                      action,comedy,crime\n",
              "actors       matthew mcconaughey,charlie hunnam,michelle do...\n",
              "directors                                          guy ritchie\n",
              "combined     the gentlemen action,comedy,crime matthew mcco...\n",
              "Name: 1, dtype: object"
            ]
          },
          "metadata": {},
          "execution_count": 52
        }
      ]
    },
    {
      "cell_type": "code",
      "source": [
        "from sklearn.feature_extraction.text import TfidfVectorizer"
      ],
      "metadata": {
        "id": "DLjSCZlaMwSZ"
      },
      "execution_count": null,
      "outputs": []
    },
    {
      "cell_type": "code",
      "source": [
        "tfidf=TfidfVectorizer(stop_words='english')"
      ],
      "metadata": {
        "id": "HCuFgHSdNUnE"
      },
      "execution_count": null,
      "outputs": []
    },
    {
      "cell_type": "code",
      "source": [
        "tfidf_dict = tfidf.fit_transform(content['combined'])\n",
        "#tfidf_dict = tfidf.fit_transform(content['combined'])\n",
        "print(tfidf_dict)\n",
        "tfidf.vocabulary_"
      ],
      "metadata": {
        "id": "pehz8pP-Ncva"
      },
      "execution_count": null,
      "outputs": []
    },
    {
      "cell_type": "code",
      "source": [
        "print(tfidf_dict)"
      ],
      "metadata": {
        "id": "WaqAtGbBOcUE"
      },
      "execution_count": null,
      "outputs": []
    },
    {
      "cell_type": "code",
      "source": [
        " from sklearn.metrics.pairwise import linear_kernel"
      ],
      "metadata": {
        "id": "RaNR8mC7ndXm"
      },
      "execution_count": null,
      "outputs": []
    },
    {
      "cell_type": "code",
      "source": [
        "cosine_sim = linear_kernel(tfidf_dict, tfidf_dict)"
      ],
      "metadata": {
        "id": "2EZhlc_ooUSH"
      },
      "execution_count": null,
      "outputs": []
    },
    {
      "cell_type": "code",
      "source": [
        "cosine_sim"
      ],
      "metadata": {
        "colab": {
          "base_uri": "https://localhost:8080/"
        },
        "id": "DJ2bU-C_1YEC",
        "outputId": "702d6974-e6ec-41c6-d578-beccd7ef2d2e"
      },
      "execution_count": null,
      "outputs": [
        {
          "output_type": "execute_result",
          "data": {
            "text/plain": [
              "array([[1.        , 0.00343662, 0.00372035, ..., 0.17447686, 0.0265045 ,\n",
              "        0.0923904 ],\n",
              "       [0.00343662, 1.        , 0.01030538, ..., 0.14633028, 0.00314909,\n",
              "        0.003451  ],\n",
              "       [0.00372035, 0.01030538, 1.        , ..., 0.01151697, 0.00340908,\n",
              "        0.00373592],\n",
              "       ...,\n",
              "       [0.17447686, 0.14633028, 0.01151697, ..., 1.        , 0.02576444,\n",
              "        0.02823453],\n",
              "       [0.0265045 , 0.00314909, 0.00340908, ..., 0.02576444, 1.        ,\n",
              "        0.05712981],\n",
              "       [0.0923904 , 0.003451  , 0.00373592, ..., 0.02823453, 0.05712981,\n",
              "        1.        ]])"
            ]
          },
          "metadata": {},
          "execution_count": 93
        }
      ]
    },
    {
      "cell_type": "code",
      "source": [
        "indices = pd.Series(content.index, index=content['name']).drop_duplicates()\n",
        "idx=indices['the gentlemen']\n",
        "idx"
      ],
      "metadata": {
        "colab": {
          "base_uri": "https://localhost:8080/"
        },
        "id": "XVxckEBo1lA9",
        "outputId": "7bafc82c-4e0c-4b2f-f9fa-db2881f9584f"
      },
      "execution_count": null,
      "outputs": [
        {
          "output_type": "execute_result",
          "data": {
            "text/plain": [
              "1"
            ]
          },
          "metadata": {},
          "execution_count": 72
        }
      ]
    },
    {
      "cell_type": "code",
      "source": [
        "sim_scores=list(enumerate(cosine_sim[idx]))"
      ],
      "metadata": {
        "id": "Pmamdc2V8ay9"
      },
      "execution_count": null,
      "outputs": []
    },
    {
      "cell_type": "code",
      "source": [
        "sim_scores=sorted(sim_scores, key=lambda x:x[1], reverse=True)\n"
      ],
      "metadata": {
        "id": "GOpP2-Ms8xlm"
      },
      "execution_count": null,
      "outputs": []
    },
    {
      "cell_type": "code",
      "source": [
        "sim_scores=sim_scores[1:11]"
      ],
      "metadata": {
        "id": "rXS6i4dR-kmN"
      },
      "execution_count": null,
      "outputs": []
    },
    {
      "cell_type": "code",
      "source": [
        "movie_indices=[i[0] for i in sim_scores]\n",
        "content['name'].iloc[movie_indices]"
      ],
      "metadata": {
        "colab": {
          "base_uri": "https://localhost:8080/"
        },
        "id": "vRNSAJGm_Fks",
        "outputId": "b1853cb0-08cd-42eb-a9cf-3e521808472b"
      },
      "execution_count": null,
      "outputs": [
        {
          "output_type": "execute_result",
          "data": {
            "text/plain": [
              "85      star wars: episode viii - the last jedi\n",
              "51    star wars: episode i - the phantom menace\n",
              "97                              triple frontier\n",
              "53                                    star wars\n",
              "65                      solo: a star wars story\n",
              "31                                    gladiator\n",
              "70                                  baby driver\n",
              "63                      raiders of the lost ark\n",
              "84                             star trek beyond\n",
              "88                                 blade runner\n",
              "Name: name, dtype: object"
            ]
          },
          "metadata": {},
          "execution_count": 92
        }
      ]
    }
  ]
}